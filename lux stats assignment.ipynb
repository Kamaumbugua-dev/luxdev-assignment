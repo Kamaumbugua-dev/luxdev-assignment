{
 "cells": [
  {
   "cell_type": "code",
   "execution_count": 1,
   "id": "f0cd24d1",
   "metadata": {},
   "outputs": [
    {
     "name": "stdout",
     "output_type": "stream",
     "text": [
      "{8}\n"
     ]
    }
   ],
   "source": [
    "#### class assignment\n",
    "# A n B\n",
    "\n",
    "A = {2, 4, 6, 8, 10}\n",
    "B = {3, 8, 11, 12}\n",
    "\n",
    "intersection = A.intersection(B)\n",
    "print(intersection)"
   ]
  },
  {
   "cell_type": "markdown",
   "id": "61eca37f",
   "metadata": {},
   "source": [
    "#### Q2 A U C\n",
    "- This tests the union of A to C "
   ]
  },
  {
   "cell_type": "code",
   "execution_count": 2,
   "id": "df3bc602",
   "metadata": {},
   "outputs": [
    {
     "name": "stdout",
     "output_type": "stream",
     "text": [
      "{2, 3, 4, 6, 8, 9, 10, 11}\n"
     ]
    }
   ],
   "source": [
    "A = {2, 4, 6, 8, 10}\n",
    "C = {2, 3, 6, 8, 9, 11}\n",
    "\n",
    "union = A.union(C)\n",
    "print(union)"
   ]
  },
  {
   "cell_type": "code",
   "execution_count": 3,
   "id": "1cc0ba39",
   "metadata": {},
   "outputs": [
    {
     "name": "stdout",
     "output_type": "stream",
     "text": [
      "{1, 3, 5, 7, 9, 11, 12}\n"
     ]
    }
   ],
   "source": [
    "# Compliment of A \n",
    "omega = set(range(1, 13))   # universal set: 1 to 12\n",
    "A = {2, 4, 6, 8, 10}\n",
    "complement_of_A = omega - A\n",
    "print(complement_of_A)"
   ]
  },
  {
   "cell_type": "code",
   "execution_count": 4,
   "id": "3b33e9f6",
   "metadata": {},
   "outputs": [
    {
     "name": "stdout",
     "output_type": "stream",
     "text": [
      "{1, 2, 4, 5, 6, 7, 9, 10}\n"
     ]
    }
   ],
   "source": [
    "# The absolute compliment of B\n",
    "omega = set(range(1, 13))\n",
    "B = {3, 8, 11, 12}\n",
    "complement_B = omega - B\n",
    "print(complement_B)"
   ]
  },
  {
   "cell_type": "code",
   "execution_count": 5,
   "id": "68436989",
   "metadata": {},
   "outputs": [
    {
     "name": "stdout",
     "output_type": "stream",
     "text": [
      "{1, 5, 9, 7}\n"
     ]
    }
   ],
   "source": [
    "# Compliment of A union B\n",
    "omega = set(range(1, 13))\n",
    "A = {2, 4, 6, 8, 10}\n",
    "B = {3, 8, 11, 12}\n",
    "\n",
    "A_union_B = A.union(B)\n",
    "complement_of_union = omega - A_union_B\n",
    "print(complement_of_union)"
   ]
  },
  {
   "cell_type": "code",
   "execution_count": 6,
   "id": "e235cb54",
   "metadata": {},
   "outputs": [
    {
     "name": "stdout",
     "output_type": "stream",
     "text": [
      "{12}\n"
     ]
    }
   ],
   "source": [
    "# B n C' THIS IS THE INTERSECTION OF B with thecompliment of C\n",
    "B = {3, 8, 11, 12}\n",
    "C = {2, 3, 6, 8, 9, 11}\n",
    "omega = set(range(1, 13))\n",
    "\n",
    "C_complement = omega - C\n",
    "result = B.intersection(C_complement)\n",
    "print(result)  # Output: {12}"
   ]
  },
  {
   "cell_type": "code",
   "execution_count": 7,
   "id": "920a788a",
   "metadata": {},
   "outputs": [
    {
     "name": "stdout",
     "output_type": "stream",
     "text": [
      "{2, 10, 4, 6}\n"
     ]
    }
   ],
   "source": [
    "# A \\ B \n",
    "# The expression A \\ B (read as \"A minus B\") means we want the elements that are in set A but not in B.\n",
    "\n",
    "\n",
    "A = {2, 4, 6, 8, 10}\n",
    "B = {3, 8, 11, 12}\n",
    "\n",
    "A_minus_B = A - B\n",
    "print(A_minus_B)"
   ]
  },
  {
   "cell_type": "code",
   "execution_count": 14,
   "id": "488ee849",
   "metadata": {},
   "outputs": [
    {
     "name": "stdout",
     "output_type": "stream",
     "text": [
      "{8, 9, 2, 6}\n"
     ]
    }
   ],
   "source": [
    "# C\\(B\\A) Elements in C that are not in the result of B minus A.\n",
    "\n",
    "#Elements in B but not in A:\n",
    "B_minus_A = B - A  \n",
    "#C \\ (B \\ A\n",
    "#Remove {3, 11, 12} from C:\n",
    "C = {2, 3, 6, 8, 9, 11}\n",
    "result = C - B_minus_A \n",
    "print(result)\n",
    "\n",
    "\n",
    "\n"
   ]
  },
  {
   "cell_type": "code",
   "execution_count": 18,
   "id": "222d1352",
   "metadata": {},
   "outputs": [
    {
     "name": "stdout",
     "output_type": "stream",
     "text": [
      "{2, 6, 8, 9}\n"
     ]
    }
   ],
   "source": [
    "#(C ∩ A) ∪ (C − B)\n",
    "# which means: Combine the elements that are in both C and A\n",
    "# OR the elements that are in C\n",
    "\n",
    "#1. C ∩ A → Elements in both C and A\n",
    "C_and_A = {2, 6, 8}\n",
    "\n",
    "# 2. C − B → Elements in C that aren’t in B\n",
    "C_minus_B = {2, 6, 9}\n",
    "\n",
    "# 3. Union of the above:\n",
    "final_result = C_and_A.union(C_minus_B)\n",
    "print(final_result)\n",
    "\n",
    "\n",
    "\n"
   ]
  },
  {
   "cell_type": "markdown",
   "id": "22b5af28",
   "metadata": {},
   "source": [
    "- c. For the remainder of this exercise, let's create sets A, B and C and universal set U in Python and test out the results you came up with. Sets are easy to create in Python. For a guide to the syntax, follow some of the documentation"
   ]
  },
  {
   "cell_type": "code",
   "execution_count": 19,
   "id": "7ae99fab",
   "metadata": {},
   "outputs": [
    {
     "name": "stdout",
     "output_type": "stream",
     "text": [
      "Type A: <class 'set'>, A: {2, 4, 6, 8, 10}\n"
     ]
    }
   ],
   "source": [
    "A = {2, 4, 6, 8, 10}\n",
    "print(f'Type A: {type(A)}, A: {A}')"
   ]
  },
  {
   "cell_type": "code",
   "execution_count": 20,
   "id": "8f08263d",
   "metadata": {},
   "outputs": [
    {
     "name": "stdout",
     "output_type": "stream",
     "text": [
      "Type B: <class 'set'>, B: {8, 11, 3, 12}\n"
     ]
    }
   ],
   "source": [
    "B = {8, 11, 3, 12}\n",
    "print(f'Type B: {type(B)}, B: {B}')"
   ]
  },
  {
   "cell_type": "code",
   "execution_count": 21,
   "id": "b7017821",
   "metadata": {},
   "outputs": [
    {
     "name": "stdout",
     "output_type": "stream",
     "text": [
      "Type C: <class 'set'>, C: {2, 3, 6, 8, 9, 11}\n"
     ]
    }
   ],
   "source": [
    "C = {2, 3, 6, 8, 9, 11}\n",
    "print(f'Type C: {type(C)}, C: {C}')"
   ]
  },
  {
   "cell_type": "code",
   "execution_count": 22,
   "id": "f0ad06e0",
   "metadata": {},
   "outputs": [
    {
     "name": "stdout",
     "output_type": "stream",
     "text": [
      "Type U: <class 'set'>, U: {1, 2, 3, 4, 5, 6, 7, 8, 9, 10, 11, 12}\n"
     ]
    }
   ],
   "source": [
    "U = set(range(1, 13))\n",
    "print(f'Type U: {type(U)}, U: {U}')"
   ]
  },
  {
   "cell_type": "code",
   "execution_count": null,
   "id": "10390b45",
   "metadata": {},
   "outputs": [
    {
     "name": "stdout",
     "output_type": "stream",
     "text": [
      "True\n"
     ]
    }
   ],
   "source": [
    "# A_inters_B = None\n",
    "# A_inters_B == ans1\n",
    "\n",
    "A = {2, 4, 6, 8, 10}\n",
    "B = {3, 8, 11, 12}\n",
    "A_inters_B = A & B  # Or A.intersection(B)\n",
    "ans1 = {8}\n",
    "\n",
    "print(A_inters_B == ans1)  # Output: True"
   ]
  },
  {
   "cell_type": "code",
   "execution_count": 25,
   "id": "76e1a389",
   "metadata": {},
   "outputs": [
    {
     "name": "stdout",
     "output_type": "stream",
     "text": [
      "True\n"
     ]
    }
   ],
   "source": [
    "\n",
    "\n",
    "# A_union_C = None\n",
    "# A_union_C == ans2\n",
    "\n",
    "\n",
    "\n",
    "A = {2, 4, 6, 8, 10}\n",
    "C = {2, 3, 6, 8, 9, 11}\n",
    "ans2 = {2, 3, 4, 6, 8, 9, 10, 11}\n",
    "\n",
    "A_union_C = A | C  # or A.union(C)\n",
    "print(A_union_C == ans2)  # Output: True"
   ]
  },
  {
   "cell_type": "code",
   "execution_count": 26,
   "id": "8ce69a52",
   "metadata": {},
   "outputs": [
    {
     "name": "stdout",
     "output_type": "stream",
     "text": [
      "True\n"
     ]
    }
   ],
   "source": [
    "# A_comp = None\n",
    "# A_comp == ans3\n",
    "\n",
    "\n",
    "A = {2, 4, 6, 8, 10}\n",
    "U = set(range(1, 13))  # Universal set: {1–12}\n",
    "ans3 = {1, 3, 5, 7, 9, 11, 12}\n",
    "\n",
    "A_comp = U - A\n",
    "print(A_comp == ans3)  # Output: True"
   ]
  },
  {
   "cell_type": "code",
   "execution_count": 27,
   "id": "ea35d21a",
   "metadata": {},
   "outputs": [
    {
     "name": "stdout",
     "output_type": "stream",
     "text": [
      "True\n"
     ]
    }
   ],
   "source": [
    "# B_comp = None\n",
    "# B_comp == ans4\n",
    "U = set(range(1, 13))              # Universal set: {1, 2, ..., 12}\n",
    "B = {3, 8, 11, 12}\n",
    "ans4 = {1, 2, 4, 5, 6, 7, 9, 10}\n",
    "\n",
    "B_comp = U - B\n",
    "print(B_comp == ans4)  # Output: True"
   ]
  },
  {
   "cell_type": "code",
   "execution_count": 1,
   "id": "8df58b05",
   "metadata": {},
   "outputs": [
    {
     "name": "stdout",
     "output_type": "stream",
     "text": [
      "True\n"
     ]
    }
   ],
   "source": [
    "\n",
    "\n",
    "# A_union_B_comp = None\n",
    "# A_union_B_comp == ans5\n",
    "\n",
    "U = set(range(1, 13))           # Universal set: {1, 2, ..., 12}\n",
    "A = {2, 4, 6, 8, 10}\n",
    "B = {3, 8, 11, 12}\n",
    "ans5 = {1, 2, 4, 5, 6, 7,8, 9, 10}  # Expected result\n",
    "\n",
    "B_comp = U - B                  # Complement of B\n",
    "A_union_B_comp = A | B_comp     # Union of A and B's complement\n",
    "print(A_union_B_comp == ans5)   # Output: True"
   ]
  },
  {
   "cell_type": "code",
   "execution_count": 2,
   "id": "9a3c1433",
   "metadata": {},
   "outputs": [
    {
     "name": "stdout",
     "output_type": "stream",
     "text": [
      "A_union_B_comp: {1, 2, 4, 5, 6, 7, 8, 9, 10}\n",
      "ans5: {1, 2, 4, 5, 6, 7, 8, 9, 10}\n",
      "Equal? True\n"
     ]
    }
   ],
   "source": [
    "print(f\"A_union_B_comp: {A_union_B_comp}\")\n",
    "print(f\"ans5: {ans5}\")\n",
    "print(f\"Equal? {A_union_B_comp == ans5}\")"
   ]
  },
  {
   "cell_type": "code",
   "execution_count": 3,
   "id": "3d8b2f80",
   "metadata": {},
   "outputs": [
    {
     "ename": "NameError",
     "evalue": "name 'ans6' is not defined",
     "output_type": "error",
     "traceback": [
      "\u001b[31m---------------------------------------------------------------------------\u001b[39m",
      "\u001b[31mNameError\u001b[39m                                 Traceback (most recent call last)",
      "\u001b[36mCell\u001b[39m\u001b[36m \u001b[39m\u001b[32mIn[3]\u001b[39m\u001b[32m, line 2\u001b[39m\n\u001b[32m      1\u001b[39m B_inters_C_comp = \u001b[38;5;28;01mNone\u001b[39;00m\n\u001b[32m----> \u001b[39m\u001b[32m2\u001b[39m B_inters_C_comp == \u001b[43mans6\u001b[49m\n",
      "\u001b[31mNameError\u001b[39m: name 'ans6' is not defined"
     ]
    }
   ],
   "source": [
    "\n",
    "\n",
    "B_inters_C_comp = None\n",
    "B_inters_C_comp == ans6\n",
    "\n"
   ]
  },
  {
   "cell_type": "code",
   "execution_count": null,
   "id": "7bd5d33c",
   "metadata": {},
   "outputs": [
    {
     "name": "stdout",
     "output_type": "stream",
     "text": [
      "True\n"
     ]
    }
   ],
   "source": [
    "B = {3, 8, 11, 12}\n",
    "C = {2, 3, 6, 8, 9, 11}\n",
    "U = set(range(1, 13))  # Universal set: {1–12}\n",
    "ans6 = {12}            # Expected result\n",
    "C_comp = U - C                  # Complement of C\n",
    "B_inters_C_comp = B & C_comp    # Intersection of B and C's complement\n",
    "print(B_inters_C_comp == ans6)  # Should output: True"
   ]
  },
  {
   "cell_type": "code",
   "execution_count": null,
   "id": "738e080a",
   "metadata": {},
   "outputs": [
    {
     "name": "stdout",
     "output_type": "stream",
     "text": [
      "True\n"
     ]
    }
   ],
   "source": [
    "B = {3, 8, 11, 12}\n",
    "U = set(range(1, 13))           # Universal set: 1 through 12\n",
    "ans7 = {1, 2, 4, 5, 6, 7, 9, 10}\n",
    "\n",
    "compl_of_B = U - B\n",
    "print(compl_of_B == ans7)  # Output: True"
   ]
  },
  {
   "cell_type": "code",
   "execution_count": null,
   "id": "63b6b1d2",
   "metadata": {},
   "outputs": [
    {
     "name": "stdout",
     "output_type": "stream",
     "text": [
      "True\n"
     ]
    }
   ],
   "source": [
    "U = set(range(1, 13))            # Universal set: {1 through 12}\n",
    "A = {2, 4, 6, 8, 10}\n",
    "B = {3, 8, 11, 12}\n",
    "C = {2, 3, 6, 8, 9, 11}\n",
    "\n",
    "\n",
    "C_comp = U - C                   # C′ = {1, 4, 5, 7, 10, 12}\n",
    "B_comp = U - B                   # B′ = {1, 2, 4, 5, 6, 7, 9, 10}\n",
    "ans8 = {4, 10}  # The expected result of (C′ ∩ B′) ∩ A\n",
    "\n",
    "C_B_inter = C_comp & B_comp      # {1, 4, 5, 7, 10}\n",
    "\n",
    "C_compl_B_compl_A = C_B_inter & A  # Final result: {4, 10}\n",
    "\n",
    "C_compl_B_compl_A = (U - C) & (U - B) & A\n",
    "print(C_compl_B_compl_A == ans8)  # Should print: True"
   ]
  },
  {
   "cell_type": "code",
   "execution_count": null,
   "id": "c4a87dc6",
   "metadata": {},
   "outputs": [
    {
     "name": "stdout",
     "output_type": "stream",
     "text": [
      "True\n"
     ]
    }
   ],
   "source": [
    "\n",
    "\n",
    "# C_inters_A_union_C_min_B = None\n",
    "# C_inters_A_union_C_min_B == ans9\n",
    "\n",
    "A = {2, 4, 6, 8, 10}\n",
    "B = {3, 8, 11, 12}\n",
    "C = {2, 3, 6, 8, 9, 11}\n",
    "\n",
    "C_inters_A = C & A  # {2, 6, 8}\n",
    "\n",
    "C_min_B = C - B     # {2, 6, 9}\n",
    "\n",
    "C_inters_A_union_C_min_B = C_inters_A | C_min_B  # {2, 6, 8, 9}\n",
    "\n",
    "C_inters_A_union_C_min_B = (C & A) | (C - B)\n",
    "ans9 = {2, 6, 8, 9}\n",
    "print(C_inters_A_union_C_min_B == ans9)  # Output: True"
   ]
  },
  {
   "cell_type": "code",
   "execution_count": null,
   "id": "66ed64a8",
   "metadata": {},
   "outputs": [
    {
     "name": "stdout",
     "output_type": "stream",
     "text": [
      "{2, 3, 4, 6, 8, 9, 10, 11, 12}\n"
     ]
    }
   ],
   "source": [
    "# left_hand_eq = None\n",
    "# print(left_hand_eq)  # 9 elements in the set\n",
    "A = {2, 4, 6, 8, 10}\n",
    "B = {3, 8, 11, 12}\n",
    "C = {2, 3, 6, 8, 9, 11}\n",
    "\n",
    "left_hand_eq = A | B | C\n",
    "print(left_hand_eq)\n"
   ]
  },
  {
   "cell_type": "code",
   "execution_count": null,
   "id": "a9a8b553",
   "metadata": {},
   "outputs": [
    {
     "name": "stdout",
     "output_type": "stream",
     "text": [
      "9\n"
     ]
    }
   ],
   "source": [
    "# right_hand_eq = None\n",
    "# print(right_hand_eq) # 9 elements in the set\n",
    "\n",
    "# Sizes of individual sets\n",
    "a = len(A)        # 5\n",
    "b = len(B)        # 4\n",
    "c = len(C)        # 6\n",
    "\n",
    "# Pairwise intersections\n",
    "a_b = len(A & B)           # {8} → 1\n",
    "b_c = len(B & C)           # {3, 8, 11} → 3\n",
    "c_a = len(C & A)           # {2, 6, 8} → 3\n",
    "\n",
    "# Triple intersection\n",
    "a_b_c = len(A & B & C)     # {8} → 1\n",
    "\n",
    "# Apply inclusion-exclusion\n",
    "right_hand_eq = a + b + c - a_b - b_c - c_a + a_b_c\n",
    "print(right_hand_eq)       # Should print: 9\n",
    "right_hand_eq = a + b + c - a_b - b_c - c_a + a_b_c\n",
    "\n",
    "left_hand_eq = A | B | C"
   ]
  },
  {
   "cell_type": "code",
   "execution_count": null,
   "id": "c4f5a8b2",
   "metadata": {},
   "outputs": [
    {
     "name": "stdout",
     "output_type": "stream",
     "text": [
      "True\n"
     ]
    }
   ],
   "source": [
    "\n",
    "\n",
    "# None # Use a comparison operator to compare `left_hand_eq` and `right_hand_eq`. Needs to say \"True\".\n",
    "left_hand_eq = A | B | C  # This is a set\n",
    "right_hand_eq = a + b + c - a_b - b_c - c_a + a_b_c  # This is an integer\n",
    "\n",
    "print(len(left_hand_eq) == right_hand_eq)  # ✅ Should print: True\n",
    "\n",
    "#print(left_hand_eq == right_hand_eq)  # Should say: True"
   ]
  },
  {
   "cell_type": "code",
   "execution_count": null,
   "id": "883202f8",
   "metadata": {},
   "outputs": [
    {
     "name": "stdout",
     "output_type": "stream",
     "text": [
      "Left Set: {2, 3, 4, 6, 8, 9, 10, 11, 12}\n",
      "Left Set Size: 9\n",
      "Right Count: 9\n",
      "Equal? True\n"
     ]
    }
   ],
   "source": [
    "print(f\"Left Set: {left_hand_eq}\")\n",
    "print(f\"Left Set Size: {len(left_hand_eq)}\")\n",
    "print(f\"Right Count: {right_hand_eq}\")\n",
    "print(f\"Equal? {len(left_hand_eq) == right_hand_eq}\")"
   ]
  },
  {
   "cell_type": "code",
   "execution_count": null,
   "id": "7d6a220e",
   "metadata": {},
   "outputs": [],
   "source": []
  }
 ],
 "metadata": {
  "kernelspec": {
   "display_name": "Python 3",
   "language": "python",
   "name": "python3"
  },
  "language_info": {
   "codemirror_mode": {
    "name": "ipython",
    "version": 3
   },
   "file_extension": ".py",
   "mimetype": "text/x-python",
   "name": "python",
   "nbconvert_exporter": "python",
   "pygments_lexer": "ipython3",
   "version": "3.11.9"
  }
 },
 "nbformat": 4,
 "nbformat_minor": 5
}
